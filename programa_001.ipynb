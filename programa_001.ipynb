{
  "nbformat": 4,
  "nbformat_minor": 0,
  "metadata": {
    "colab": {
      "provenance": [],
      "authorship_tag": "ABX9TyOBDp8S61wLgYoO+76ebyPf",
      "include_colab_link": true
    },
    "kernelspec": {
      "name": "python3",
      "display_name": "Python 3"
    },
    "language_info": {
      "name": "python"
    }
  },
  "cells": [
    {
      "cell_type": "markdown",
      "metadata": {
        "id": "view-in-github",
        "colab_type": "text"
      },
      "source": [
        "<a href=\"https://colab.research.google.com/github/Gabi-Naa/class/blob/main/programa_001.ipynb\" target=\"_parent\"><img src=\"https://colab.research.google.com/assets/colab-badge.svg\" alt=\"Open In Colab\"/></a>"
      ]
    },
    {
      "cell_type": "markdown",
      "source": [
        "#Meu primeiro programa na aula do professor Massaki"
      ],
      "metadata": {
        "id": "CboXkiJEeF1Z"
      }
    },
    {
      "cell_type": "code",
      "execution_count": 3,
      "metadata": {
        "colab": {
          "base_uri": "https://localhost:8080/"
        },
        "id": "y3CiBpYFXxkr",
        "outputId": "0115feb5-bd9a-4d4b-a911-f312d48d7fe8"
      },
      "outputs": [
        {
          "output_type": "stream",
          "name": "stdout",
          "text": [
            "<class 'int'>\n",
            "<class 'float'>\n",
            "<class 'float'>\n",
            "5.0\n"
          ]
        }
      ],
      "source": [
        "a=2\n",
        "print(type(a))\n",
        "b=3.0\n",
        "print(type(b))\n",
        "soma=a+b\n",
        "print(type(soma))\n",
        "print(soma)"
      ]
    },
    {
      "cell_type": "markdown",
      "source": [
        "#Importância no tipo de dados"
      ],
      "metadata": {
        "id": "89zzEf8Vgd7I"
      }
    },
    {
      "cell_type": "code",
      "source": [
        "num = int(input(\"Digite um número inteiro:\"))\n",
        "print(type(num))\n",
        "quoc=num//2\n",
        "resto=num%2\n",
        "print(\"Quociente =\", quoc)\n",
        "print(\"Resto =\", resto)\n"
      ],
      "metadata": {
        "colab": {
          "base_uri": "https://localhost:8080/"
        },
        "id": "VX1CDHYGgjGX",
        "outputId": "75b49ef7-d74e-4400-97e7-98f87e19685b"
      },
      "execution_count": 8,
      "outputs": [
        {
          "output_type": "stream",
          "name": "stdout",
          "text": [
            "Digite um número inteiro:11\n",
            "<class 'int'>\n",
            "Quociente = 5\n",
            "Resto = 1\n"
          ]
        }
      ]
    }
  ]
}